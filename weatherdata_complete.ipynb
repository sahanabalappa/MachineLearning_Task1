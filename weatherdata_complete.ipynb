{
  "nbformat": 4,
  "nbformat_minor": 0,
  "metadata": {
    "colab": {
      "name": "weatherdata.ipynb",
      "provenance": [],
      "collapsed_sections": [],
      "authorship_tag": "ABX9TyMleVmM6bJ5flLSL6ZUbID/",
      "include_colab_link": true
    },
    "kernelspec": {
      "name": "python3",
      "display_name": "Python 3"
    }
  },
  "cells": [
    {
      "cell_type": "markdown",
      "metadata": {
        "id": "view-in-github",
        "colab_type": "text"
      },
      "source": [
        "<a href=\"https://colab.research.google.com/github/sahanabalappa/MachineLearning_Task1/blob/master/weatherdata.ipynb\" target=\"_parent\"><img src=\"https://colab.research.google.com/assets/colab-badge.svg\" alt=\"Open In Colab\"/></a>"
      ]
    },
    {
      "cell_type": "code",
      "metadata": {
        "id": "JYtoyuO3Uz7I",
        "colab_type": "code",
        "colab": {}
      },
      "source": [
        "import pandas as pd\n",
        "import matplotlib.pyplot as plt\n",
        "from sklearn.model_selection import train_test_split\n",
        "from sklearn.linear_model import LinearRegression\n",
        "import sklearn.metrics as sm"
      ],
      "execution_count": 1,
      "outputs": []
    },
    {
      "cell_type": "code",
      "metadata": {
        "id": "O8_-fZqqU6A1",
        "colab_type": "code",
        "colab": {}
      },
      "source": [
        "df=pd.read_csv('/content/sample_data/weatherdata.ipynb/weatherdata.csv')"
      ],
      "execution_count": 3,
      "outputs": []
    },
    {
      "cell_type": "markdown",
      "metadata": {
        "id": "ynqSkLnpdw5E",
        "colab_type": "text"
      },
      "source": [
        "# New Section"
      ]
    },
    {
      "cell_type": "code",
      "metadata": {
        "id": "U68IFWx2W7Eq",
        "colab_type": "code",
        "colab": {
          "base_uri": "https://localhost:8080/",
          "height": 894
        },
        "outputId": "29731ab9-1216-4949-c511-1892fdac5d19"
      },
      "source": [
        "df"
      ],
      "execution_count": 91,
      "outputs": [
        {
          "output_type": "execute_result",
          "data": {
            "text/html": [
              "<div>\n",
              "<style scoped>\n",
              "    .dataframe tbody tr th:only-of-type {\n",
              "        vertical-align: middle;\n",
              "    }\n",
              "\n",
              "    .dataframe tbody tr th {\n",
              "        vertical-align: top;\n",
              "    }\n",
              "\n",
              "    .dataframe thead th {\n",
              "        text-align: right;\n",
              "    }\n",
              "</style>\n",
              "<table border=\"1\" class=\"dataframe\">\n",
              "  <thead>\n",
              "    <tr style=\"text-align: right;\">\n",
              "      <th></th>\n",
              "      <th>Location</th>\n",
              "      <th>Address</th>\n",
              "      <th>Resolved Address</th>\n",
              "      <th>Wind Direction</th>\n",
              "      <th>Temperature</th>\n",
              "      <th>Maximum Temperature</th>\n",
              "      <th>Latitude</th>\n",
              "      <th>Wind Speed</th>\n",
              "      <th>Cloud Cover</th>\n",
              "      <th>Heat Index</th>\n",
              "      <th>Chance Precipitation (%)</th>\n",
              "      <th>Minimum Temperature</th>\n",
              "      <th>Date time</th>\n",
              "      <th>Precipitation</th>\n",
              "      <th>Sea Level Pressure</th>\n",
              "      <th>Snow Depth</th>\n",
              "      <th>Snow</th>\n",
              "      <th>Name</th>\n",
              "      <th>Relative Humidity</th>\n",
              "      <th>ID</th>\n",
              "      <th>Wind Gust</th>\n",
              "      <th>Conditions</th>\n",
              "      <th>Wind Chill</th>\n",
              "      <th>Longitude</th>\n",
              "    </tr>\n",
              "  </thead>\n",
              "  <tbody>\n",
              "    <tr>\n",
              "      <th>0</th>\n",
              "      <td>Bengaluru, KA, IN</td>\n",
              "      <td>Bengaluru, KA, IN</td>\n",
              "      <td>NaN</td>\n",
              "      <td>24.0</td>\n",
              "      <td>76.7</td>\n",
              "      <td>82.5</td>\n",
              "      <td>12.9664</td>\n",
              "      <td>6.2</td>\n",
              "      <td>99.8</td>\n",
              "      <td>84.8</td>\n",
              "      <td>100.0</td>\n",
              "      <td>72.2</td>\n",
              "      <td>09/03/2020</td>\n",
              "      <td>0.1</td>\n",
              "      <td>1006.5</td>\n",
              "      <td>0</td>\n",
              "      <td>0</td>\n",
              "      <td>Bengaluru, KA, IN</td>\n",
              "      <td>74.0</td>\n",
              "      <td>NaN</td>\n",
              "      <td>12.5</td>\n",
              "      <td>Rain, Overcast</td>\n",
              "      <td>NaN</td>\n",
              "      <td>77.5872</td>\n",
              "    </tr>\n",
              "    <tr>\n",
              "      <th>1</th>\n",
              "      <td>Bengaluru, KA, IN</td>\n",
              "      <td>Bengaluru, KA, IN</td>\n",
              "      <td>NaN</td>\n",
              "      <td>42.6</td>\n",
              "      <td>76.3</td>\n",
              "      <td>83.2</td>\n",
              "      <td>12.9664</td>\n",
              "      <td>3.9</td>\n",
              "      <td>87.2</td>\n",
              "      <td>85.3</td>\n",
              "      <td>100.0</td>\n",
              "      <td>70.1</td>\n",
              "      <td>09/04/2020</td>\n",
              "      <td>0.3</td>\n",
              "      <td>1006.9</td>\n",
              "      <td>0</td>\n",
              "      <td>0</td>\n",
              "      <td>Bengaluru, KA, IN</td>\n",
              "      <td>75.1</td>\n",
              "      <td>NaN</td>\n",
              "      <td>14.5</td>\n",
              "      <td>Rain, Overcast</td>\n",
              "      <td>NaN</td>\n",
              "      <td>77.5872</td>\n",
              "    </tr>\n",
              "    <tr>\n",
              "      <th>2</th>\n",
              "      <td>Bengaluru, KA, IN</td>\n",
              "      <td>Bengaluru, KA, IN</td>\n",
              "      <td>NaN</td>\n",
              "      <td>27.2</td>\n",
              "      <td>77.5</td>\n",
              "      <td>86.4</td>\n",
              "      <td>12.9664</td>\n",
              "      <td>4.2</td>\n",
              "      <td>38.0</td>\n",
              "      <td>89.1</td>\n",
              "      <td>95.1</td>\n",
              "      <td>70.6</td>\n",
              "      <td>09/05/2020</td>\n",
              "      <td>0.2</td>\n",
              "      <td>1006.2</td>\n",
              "      <td>0</td>\n",
              "      <td>0</td>\n",
              "      <td>Bengaluru, KA, IN</td>\n",
              "      <td>74.1</td>\n",
              "      <td>NaN</td>\n",
              "      <td>12.8</td>\n",
              "      <td>Rain, Partially cloudy</td>\n",
              "      <td>NaN</td>\n",
              "      <td>77.5872</td>\n",
              "    </tr>\n",
              "    <tr>\n",
              "      <th>3</th>\n",
              "      <td>Bengaluru, KA, IN</td>\n",
              "      <td>Bengaluru, KA, IN</td>\n",
              "      <td>NaN</td>\n",
              "      <td>22.6</td>\n",
              "      <td>77.6</td>\n",
              "      <td>84.3</td>\n",
              "      <td>12.9664</td>\n",
              "      <td>4.8</td>\n",
              "      <td>77.0</td>\n",
              "      <td>88.0</td>\n",
              "      <td>100.0</td>\n",
              "      <td>72.1</td>\n",
              "      <td>09/06/2020</td>\n",
              "      <td>0.9</td>\n",
              "      <td>1005.8</td>\n",
              "      <td>0</td>\n",
              "      <td>0</td>\n",
              "      <td>Bengaluru, KA, IN</td>\n",
              "      <td>74.8</td>\n",
              "      <td>NaN</td>\n",
              "      <td>16.6</td>\n",
              "      <td>Rain, Overcast</td>\n",
              "      <td>NaN</td>\n",
              "      <td>77.5872</td>\n",
              "    </tr>\n",
              "    <tr>\n",
              "      <th>4</th>\n",
              "      <td>Bengaluru, KA, IN</td>\n",
              "      <td>Bengaluru, KA, IN</td>\n",
              "      <td>NaN</td>\n",
              "      <td>65.7</td>\n",
              "      <td>75.5</td>\n",
              "      <td>82.3</td>\n",
              "      <td>12.9664</td>\n",
              "      <td>7.9</td>\n",
              "      <td>71.4</td>\n",
              "      <td>85.5</td>\n",
              "      <td>95.2</td>\n",
              "      <td>69.9</td>\n",
              "      <td>09/07/2020</td>\n",
              "      <td>1.1</td>\n",
              "      <td>1006.8</td>\n",
              "      <td>0</td>\n",
              "      <td>0</td>\n",
              "      <td>Bengaluru, KA, IN</td>\n",
              "      <td>78.8</td>\n",
              "      <td>NaN</td>\n",
              "      <td>22.1</td>\n",
              "      <td>Rain, Partially cloudy</td>\n",
              "      <td>NaN</td>\n",
              "      <td>77.5872</td>\n",
              "    </tr>\n",
              "    <tr>\n",
              "      <th>5</th>\n",
              "      <td>Bengaluru, KA, IN</td>\n",
              "      <td>Bengaluru, KA, IN</td>\n",
              "      <td>NaN</td>\n",
              "      <td>68.9</td>\n",
              "      <td>76.1</td>\n",
              "      <td>84.3</td>\n",
              "      <td>12.9664</td>\n",
              "      <td>7.2</td>\n",
              "      <td>74.3</td>\n",
              "      <td>87.0</td>\n",
              "      <td>80.9</td>\n",
              "      <td>69.3</td>\n",
              "      <td>09/08/2020</td>\n",
              "      <td>0.5</td>\n",
              "      <td>1007.6</td>\n",
              "      <td>0</td>\n",
              "      <td>0</td>\n",
              "      <td>Bengaluru, KA, IN</td>\n",
              "      <td>77.3</td>\n",
              "      <td>NaN</td>\n",
              "      <td>15.9</td>\n",
              "      <td>Rain, Partially cloudy</td>\n",
              "      <td>NaN</td>\n",
              "      <td>77.5872</td>\n",
              "    </tr>\n",
              "    <tr>\n",
              "      <th>6</th>\n",
              "      <td>Bengaluru, KA, IN</td>\n",
              "      <td>Bengaluru, KA, IN</td>\n",
              "      <td>NaN</td>\n",
              "      <td>69.9</td>\n",
              "      <td>75.0</td>\n",
              "      <td>82.3</td>\n",
              "      <td>12.9664</td>\n",
              "      <td>10.7</td>\n",
              "      <td>86.6</td>\n",
              "      <td>85.5</td>\n",
              "      <td>85.7</td>\n",
              "      <td>69.7</td>\n",
              "      <td>09/09/2020</td>\n",
              "      <td>0.4</td>\n",
              "      <td>1006.8</td>\n",
              "      <td>0</td>\n",
              "      <td>0</td>\n",
              "      <td>Bengaluru, KA, IN</td>\n",
              "      <td>79.6</td>\n",
              "      <td>NaN</td>\n",
              "      <td>21.3</td>\n",
              "      <td>Rain, Overcast</td>\n",
              "      <td>NaN</td>\n",
              "      <td>77.5872</td>\n",
              "    </tr>\n",
              "    <tr>\n",
              "      <th>7</th>\n",
              "      <td>Bengaluru, KA, IN</td>\n",
              "      <td>Bengaluru, KA, IN</td>\n",
              "      <td>NaN</td>\n",
              "      <td>66.0</td>\n",
              "      <td>74.1</td>\n",
              "      <td>81.2</td>\n",
              "      <td>12.9664</td>\n",
              "      <td>12.0</td>\n",
              "      <td>96.9</td>\n",
              "      <td>84.0</td>\n",
              "      <td>66.6</td>\n",
              "      <td>69.0</td>\n",
              "      <td>09/10/2020</td>\n",
              "      <td>0.7</td>\n",
              "      <td>1004.9</td>\n",
              "      <td>0</td>\n",
              "      <td>0</td>\n",
              "      <td>Bengaluru, KA, IN</td>\n",
              "      <td>80.6</td>\n",
              "      <td>NaN</td>\n",
              "      <td>23.7</td>\n",
              "      <td>Rain, Overcast</td>\n",
              "      <td>NaN</td>\n",
              "      <td>77.5872</td>\n",
              "    </tr>\n",
              "    <tr>\n",
              "      <th>8</th>\n",
              "      <td>Bengaluru, KA, IN</td>\n",
              "      <td>Bengaluru, KA, IN</td>\n",
              "      <td>NaN</td>\n",
              "      <td>77.2</td>\n",
              "      <td>70.7</td>\n",
              "      <td>74.4</td>\n",
              "      <td>12.9664</td>\n",
              "      <td>11.6</td>\n",
              "      <td>100.0</td>\n",
              "      <td>NaN</td>\n",
              "      <td>66.6</td>\n",
              "      <td>69.0</td>\n",
              "      <td>09/11/2020</td>\n",
              "      <td>0.7</td>\n",
              "      <td>1006.1</td>\n",
              "      <td>0</td>\n",
              "      <td>0</td>\n",
              "      <td>Bengaluru, KA, IN</td>\n",
              "      <td>87.7</td>\n",
              "      <td>NaN</td>\n",
              "      <td>24.6</td>\n",
              "      <td>Rain, Overcast</td>\n",
              "      <td>NaN</td>\n",
              "      <td>77.5872</td>\n",
              "    </tr>\n",
              "    <tr>\n",
              "      <th>9</th>\n",
              "      <td>Bengaluru, KA, IN</td>\n",
              "      <td>Bengaluru, KA, IN</td>\n",
              "      <td>NaN</td>\n",
              "      <td>70.4</td>\n",
              "      <td>71.4</td>\n",
              "      <td>78.9</td>\n",
              "      <td>12.9664</td>\n",
              "      <td>12.5</td>\n",
              "      <td>98.9</td>\n",
              "      <td>NaN</td>\n",
              "      <td>76.1</td>\n",
              "      <td>67.7</td>\n",
              "      <td>09/12/2020</td>\n",
              "      <td>0.3</td>\n",
              "      <td>1007.4</td>\n",
              "      <td>0</td>\n",
              "      <td>0</td>\n",
              "      <td>Bengaluru, KA, IN</td>\n",
              "      <td>83.7</td>\n",
              "      <td>NaN</td>\n",
              "      <td>23.9</td>\n",
              "      <td>Rain, Overcast</td>\n",
              "      <td>NaN</td>\n",
              "      <td>77.5872</td>\n",
              "    </tr>\n",
              "    <tr>\n",
              "      <th>10</th>\n",
              "      <td>Bengaluru, KA, IN</td>\n",
              "      <td>Bengaluru, KA, IN</td>\n",
              "      <td>NaN</td>\n",
              "      <td>85.8</td>\n",
              "      <td>72.9</td>\n",
              "      <td>79.1</td>\n",
              "      <td>12.9664</td>\n",
              "      <td>11.5</td>\n",
              "      <td>100.0</td>\n",
              "      <td>NaN</td>\n",
              "      <td>33.2</td>\n",
              "      <td>67.4</td>\n",
              "      <td>09/13/2020</td>\n",
              "      <td>0.2</td>\n",
              "      <td>1007.5</td>\n",
              "      <td>0</td>\n",
              "      <td>0</td>\n",
              "      <td>Bengaluru, KA, IN</td>\n",
              "      <td>79.9</td>\n",
              "      <td>NaN</td>\n",
              "      <td>25.3</td>\n",
              "      <td>Overcast</td>\n",
              "      <td>NaN</td>\n",
              "      <td>77.5872</td>\n",
              "    </tr>\n",
              "    <tr>\n",
              "      <th>11</th>\n",
              "      <td>Bengaluru, KA, IN</td>\n",
              "      <td>Bengaluru, KA, IN</td>\n",
              "      <td>NaN</td>\n",
              "      <td>83.4</td>\n",
              "      <td>73.0</td>\n",
              "      <td>81.8</td>\n",
              "      <td>12.9664</td>\n",
              "      <td>11.0</td>\n",
              "      <td>85.8</td>\n",
              "      <td>83.7</td>\n",
              "      <td>23.8</td>\n",
              "      <td>66.5</td>\n",
              "      <td>09/14/2020</td>\n",
              "      <td>0.1</td>\n",
              "      <td>1006.9</td>\n",
              "      <td>0</td>\n",
              "      <td>0</td>\n",
              "      <td>Bengaluru, KA, IN</td>\n",
              "      <td>78.2</td>\n",
              "      <td>NaN</td>\n",
              "      <td>20.6</td>\n",
              "      <td>Overcast</td>\n",
              "      <td>NaN</td>\n",
              "      <td>77.5872</td>\n",
              "    </tr>\n",
              "    <tr>\n",
              "      <th>12</th>\n",
              "      <td>Bengaluru, KA, IN</td>\n",
              "      <td>Bengaluru, KA, IN</td>\n",
              "      <td>NaN</td>\n",
              "      <td>83.1</td>\n",
              "      <td>72.7</td>\n",
              "      <td>80.0</td>\n",
              "      <td>12.9664</td>\n",
              "      <td>12.6</td>\n",
              "      <td>98.0</td>\n",
              "      <td>NaN</td>\n",
              "      <td>23.8</td>\n",
              "      <td>66.8</td>\n",
              "      <td>09/15/2020</td>\n",
              "      <td>0.0</td>\n",
              "      <td>1007.0</td>\n",
              "      <td>0</td>\n",
              "      <td>0</td>\n",
              "      <td>Bengaluru, KA, IN</td>\n",
              "      <td>76.5</td>\n",
              "      <td>NaN</td>\n",
              "      <td>24.2</td>\n",
              "      <td>Overcast</td>\n",
              "      <td>NaN</td>\n",
              "      <td>77.5872</td>\n",
              "    </tr>\n",
              "    <tr>\n",
              "      <th>13</th>\n",
              "      <td>Bengaluru, KA, IN</td>\n",
              "      <td>Bengaluru, KA, IN</td>\n",
              "      <td>NaN</td>\n",
              "      <td>72.8</td>\n",
              "      <td>72.4</td>\n",
              "      <td>82.1</td>\n",
              "      <td>12.9664</td>\n",
              "      <td>13.4</td>\n",
              "      <td>62.6</td>\n",
              "      <td>84.2</td>\n",
              "      <td>23.7</td>\n",
              "      <td>65.4</td>\n",
              "      <td>09/16/2020</td>\n",
              "      <td>0.2</td>\n",
              "      <td>1007.1</td>\n",
              "      <td>0</td>\n",
              "      <td>0</td>\n",
              "      <td>Bengaluru, KA, IN</td>\n",
              "      <td>77.9</td>\n",
              "      <td>NaN</td>\n",
              "      <td>24.6</td>\n",
              "      <td>Partially cloudy</td>\n",
              "      <td>NaN</td>\n",
              "      <td>77.5872</td>\n",
              "    </tr>\n",
              "    <tr>\n",
              "      <th>14</th>\n",
              "      <td>Bengaluru, KA, IN</td>\n",
              "      <td>Bengaluru, KA, IN</td>\n",
              "      <td>NaN</td>\n",
              "      <td>70.5</td>\n",
              "      <td>72.5</td>\n",
              "      <td>79.8</td>\n",
              "      <td>12.9664</td>\n",
              "      <td>12.1</td>\n",
              "      <td>96.9</td>\n",
              "      <td>NaN</td>\n",
              "      <td>33.3</td>\n",
              "      <td>67.0</td>\n",
              "      <td>09/17/2020</td>\n",
              "      <td>0.2</td>\n",
              "      <td>1006.9</td>\n",
              "      <td>0</td>\n",
              "      <td>0</td>\n",
              "      <td>Bengaluru, KA, IN</td>\n",
              "      <td>81.1</td>\n",
              "      <td>NaN</td>\n",
              "      <td>24.2</td>\n",
              "      <td>Overcast</td>\n",
              "      <td>NaN</td>\n",
              "      <td>77.5872</td>\n",
              "    </tr>\n",
              "    <tr>\n",
              "      <th>15</th>\n",
              "      <td>Bengaluru, KA, IN</td>\n",
              "      <td>Bengaluru, KA, IN</td>\n",
              "      <td>NaN</td>\n",
              "      <td>74.6</td>\n",
              "      <td>72.3</td>\n",
              "      <td>79.2</td>\n",
              "      <td>12.9664</td>\n",
              "      <td>10.4</td>\n",
              "      <td>93.1</td>\n",
              "      <td>NaN</td>\n",
              "      <td>52.3</td>\n",
              "      <td>66.8</td>\n",
              "      <td>09/18/2020</td>\n",
              "      <td>0.4</td>\n",
              "      <td>1007.4</td>\n",
              "      <td>0</td>\n",
              "      <td>0</td>\n",
              "      <td>Bengaluru, KA, IN</td>\n",
              "      <td>81.5</td>\n",
              "      <td>NaN</td>\n",
              "      <td>24.2</td>\n",
              "      <td>Rain, Overcast</td>\n",
              "      <td>NaN</td>\n",
              "      <td>77.5872</td>\n",
              "    </tr>\n",
              "  </tbody>\n",
              "</table>\n",
              "</div>"
            ],
            "text/plain": [
              "             Location            Address  ...  Wind Chill  Longitude\n",
              "0   Bengaluru, KA, IN  Bengaluru, KA, IN  ...         NaN    77.5872\n",
              "1   Bengaluru, KA, IN  Bengaluru, KA, IN  ...         NaN    77.5872\n",
              "2   Bengaluru, KA, IN  Bengaluru, KA, IN  ...         NaN    77.5872\n",
              "3   Bengaluru, KA, IN  Bengaluru, KA, IN  ...         NaN    77.5872\n",
              "4   Bengaluru, KA, IN  Bengaluru, KA, IN  ...         NaN    77.5872\n",
              "5   Bengaluru, KA, IN  Bengaluru, KA, IN  ...         NaN    77.5872\n",
              "6   Bengaluru, KA, IN  Bengaluru, KA, IN  ...         NaN    77.5872\n",
              "7   Bengaluru, KA, IN  Bengaluru, KA, IN  ...         NaN    77.5872\n",
              "8   Bengaluru, KA, IN  Bengaluru, KA, IN  ...         NaN    77.5872\n",
              "9   Bengaluru, KA, IN  Bengaluru, KA, IN  ...         NaN    77.5872\n",
              "10  Bengaluru, KA, IN  Bengaluru, KA, IN  ...         NaN    77.5872\n",
              "11  Bengaluru, KA, IN  Bengaluru, KA, IN  ...         NaN    77.5872\n",
              "12  Bengaluru, KA, IN  Bengaluru, KA, IN  ...         NaN    77.5872\n",
              "13  Bengaluru, KA, IN  Bengaluru, KA, IN  ...         NaN    77.5872\n",
              "14  Bengaluru, KA, IN  Bengaluru, KA, IN  ...         NaN    77.5872\n",
              "15  Bengaluru, KA, IN  Bengaluru, KA, IN  ...         NaN    77.5872\n",
              "\n",
              "[16 rows x 24 columns]"
            ]
          },
          "metadata": {
            "tags": []
          },
          "execution_count": 91
        }
      ]
    },
    {
      "cell_type": "code",
      "metadata": {
        "id": "Mq37PkLXXLTn",
        "colab_type": "code",
        "colab": {
          "base_uri": "https://localhost:8080/",
          "height": 574
        },
        "outputId": "c1c9ac65-dc5f-4a73-ef2b-5d98e92c937f"
      },
      "source": [
        "#head()-displays first n rows in the data(by default n=5)\n",
        "df.drop([\"Location\", \"Address\", \"Date time\",\"Name\",\"Conditions\",\"Resolved Address\",\"ID\",\"Wind Chill\",\"Heat Index\",\"Snow Depth\",\"Snow\"],axis = 1, inplace = True) \n",
        "df"
      ],
      "execution_count": 4,
      "outputs": [
        {
          "output_type": "execute_result",
          "data": {
            "text/html": [
              "<div>\n",
              "<style scoped>\n",
              "    .dataframe tbody tr th:only-of-type {\n",
              "        vertical-align: middle;\n",
              "    }\n",
              "\n",
              "    .dataframe tbody tr th {\n",
              "        vertical-align: top;\n",
              "    }\n",
              "\n",
              "    .dataframe thead th {\n",
              "        text-align: right;\n",
              "    }\n",
              "</style>\n",
              "<table border=\"1\" class=\"dataframe\">\n",
              "  <thead>\n",
              "    <tr style=\"text-align: right;\">\n",
              "      <th></th>\n",
              "      <th>Wind Direction</th>\n",
              "      <th>Temperature</th>\n",
              "      <th>Maximum Temperature</th>\n",
              "      <th>Latitude</th>\n",
              "      <th>Wind Speed</th>\n",
              "      <th>Cloud Cover</th>\n",
              "      <th>Chance Precipitation (%)</th>\n",
              "      <th>Minimum Temperature</th>\n",
              "      <th>Precipitation</th>\n",
              "      <th>Sea Level Pressure</th>\n",
              "      <th>Relative Humidity</th>\n",
              "      <th>Wind Gust</th>\n",
              "      <th>Longitude</th>\n",
              "    </tr>\n",
              "  </thead>\n",
              "  <tbody>\n",
              "    <tr>\n",
              "      <th>0</th>\n",
              "      <td>24.0</td>\n",
              "      <td>76.7</td>\n",
              "      <td>82.5</td>\n",
              "      <td>12.9664</td>\n",
              "      <td>6.2</td>\n",
              "      <td>99.8</td>\n",
              "      <td>100.0</td>\n",
              "      <td>72.2</td>\n",
              "      <td>0.1</td>\n",
              "      <td>1006.5</td>\n",
              "      <td>74.0</td>\n",
              "      <td>12.5</td>\n",
              "      <td>77.5872</td>\n",
              "    </tr>\n",
              "    <tr>\n",
              "      <th>1</th>\n",
              "      <td>42.6</td>\n",
              "      <td>76.3</td>\n",
              "      <td>83.2</td>\n",
              "      <td>12.9664</td>\n",
              "      <td>3.9</td>\n",
              "      <td>87.2</td>\n",
              "      <td>100.0</td>\n",
              "      <td>70.1</td>\n",
              "      <td>0.3</td>\n",
              "      <td>1006.9</td>\n",
              "      <td>75.1</td>\n",
              "      <td>14.5</td>\n",
              "      <td>77.5872</td>\n",
              "    </tr>\n",
              "    <tr>\n",
              "      <th>2</th>\n",
              "      <td>27.2</td>\n",
              "      <td>77.5</td>\n",
              "      <td>86.4</td>\n",
              "      <td>12.9664</td>\n",
              "      <td>4.2</td>\n",
              "      <td>38.0</td>\n",
              "      <td>95.1</td>\n",
              "      <td>70.6</td>\n",
              "      <td>0.2</td>\n",
              "      <td>1006.2</td>\n",
              "      <td>74.1</td>\n",
              "      <td>12.8</td>\n",
              "      <td>77.5872</td>\n",
              "    </tr>\n",
              "    <tr>\n",
              "      <th>3</th>\n",
              "      <td>22.6</td>\n",
              "      <td>77.6</td>\n",
              "      <td>84.3</td>\n",
              "      <td>12.9664</td>\n",
              "      <td>4.8</td>\n",
              "      <td>77.0</td>\n",
              "      <td>100.0</td>\n",
              "      <td>72.1</td>\n",
              "      <td>0.9</td>\n",
              "      <td>1005.8</td>\n",
              "      <td>74.8</td>\n",
              "      <td>16.6</td>\n",
              "      <td>77.5872</td>\n",
              "    </tr>\n",
              "    <tr>\n",
              "      <th>4</th>\n",
              "      <td>65.7</td>\n",
              "      <td>75.5</td>\n",
              "      <td>82.3</td>\n",
              "      <td>12.9664</td>\n",
              "      <td>7.9</td>\n",
              "      <td>71.4</td>\n",
              "      <td>95.2</td>\n",
              "      <td>69.9</td>\n",
              "      <td>1.1</td>\n",
              "      <td>1006.8</td>\n",
              "      <td>78.8</td>\n",
              "      <td>22.1</td>\n",
              "      <td>77.5872</td>\n",
              "    </tr>\n",
              "    <tr>\n",
              "      <th>5</th>\n",
              "      <td>68.9</td>\n",
              "      <td>76.1</td>\n",
              "      <td>84.3</td>\n",
              "      <td>12.9664</td>\n",
              "      <td>7.2</td>\n",
              "      <td>74.3</td>\n",
              "      <td>80.9</td>\n",
              "      <td>69.3</td>\n",
              "      <td>0.5</td>\n",
              "      <td>1007.6</td>\n",
              "      <td>77.3</td>\n",
              "      <td>15.9</td>\n",
              "      <td>77.5872</td>\n",
              "    </tr>\n",
              "    <tr>\n",
              "      <th>6</th>\n",
              "      <td>69.9</td>\n",
              "      <td>75.0</td>\n",
              "      <td>82.3</td>\n",
              "      <td>12.9664</td>\n",
              "      <td>10.7</td>\n",
              "      <td>86.6</td>\n",
              "      <td>85.7</td>\n",
              "      <td>69.7</td>\n",
              "      <td>0.4</td>\n",
              "      <td>1006.8</td>\n",
              "      <td>79.6</td>\n",
              "      <td>21.3</td>\n",
              "      <td>77.5872</td>\n",
              "    </tr>\n",
              "    <tr>\n",
              "      <th>7</th>\n",
              "      <td>66.0</td>\n",
              "      <td>74.1</td>\n",
              "      <td>81.2</td>\n",
              "      <td>12.9664</td>\n",
              "      <td>12.0</td>\n",
              "      <td>96.9</td>\n",
              "      <td>66.6</td>\n",
              "      <td>69.0</td>\n",
              "      <td>0.7</td>\n",
              "      <td>1004.9</td>\n",
              "      <td>80.6</td>\n",
              "      <td>23.7</td>\n",
              "      <td>77.5872</td>\n",
              "    </tr>\n",
              "    <tr>\n",
              "      <th>8</th>\n",
              "      <td>77.2</td>\n",
              "      <td>70.7</td>\n",
              "      <td>74.4</td>\n",
              "      <td>12.9664</td>\n",
              "      <td>11.6</td>\n",
              "      <td>100.0</td>\n",
              "      <td>66.6</td>\n",
              "      <td>69.0</td>\n",
              "      <td>0.7</td>\n",
              "      <td>1006.1</td>\n",
              "      <td>87.7</td>\n",
              "      <td>24.6</td>\n",
              "      <td>77.5872</td>\n",
              "    </tr>\n",
              "    <tr>\n",
              "      <th>9</th>\n",
              "      <td>70.4</td>\n",
              "      <td>71.4</td>\n",
              "      <td>78.9</td>\n",
              "      <td>12.9664</td>\n",
              "      <td>12.5</td>\n",
              "      <td>98.9</td>\n",
              "      <td>76.1</td>\n",
              "      <td>67.7</td>\n",
              "      <td>0.3</td>\n",
              "      <td>1007.4</td>\n",
              "      <td>83.7</td>\n",
              "      <td>23.9</td>\n",
              "      <td>77.5872</td>\n",
              "    </tr>\n",
              "    <tr>\n",
              "      <th>10</th>\n",
              "      <td>85.8</td>\n",
              "      <td>72.9</td>\n",
              "      <td>79.1</td>\n",
              "      <td>12.9664</td>\n",
              "      <td>11.5</td>\n",
              "      <td>100.0</td>\n",
              "      <td>33.2</td>\n",
              "      <td>67.4</td>\n",
              "      <td>0.2</td>\n",
              "      <td>1007.5</td>\n",
              "      <td>79.9</td>\n",
              "      <td>25.3</td>\n",
              "      <td>77.5872</td>\n",
              "    </tr>\n",
              "    <tr>\n",
              "      <th>11</th>\n",
              "      <td>83.4</td>\n",
              "      <td>73.0</td>\n",
              "      <td>81.8</td>\n",
              "      <td>12.9664</td>\n",
              "      <td>11.0</td>\n",
              "      <td>85.8</td>\n",
              "      <td>23.8</td>\n",
              "      <td>66.5</td>\n",
              "      <td>0.1</td>\n",
              "      <td>1006.9</td>\n",
              "      <td>78.2</td>\n",
              "      <td>20.6</td>\n",
              "      <td>77.5872</td>\n",
              "    </tr>\n",
              "    <tr>\n",
              "      <th>12</th>\n",
              "      <td>83.1</td>\n",
              "      <td>72.7</td>\n",
              "      <td>80.0</td>\n",
              "      <td>12.9664</td>\n",
              "      <td>12.6</td>\n",
              "      <td>98.0</td>\n",
              "      <td>23.8</td>\n",
              "      <td>66.8</td>\n",
              "      <td>0.0</td>\n",
              "      <td>1007.0</td>\n",
              "      <td>76.5</td>\n",
              "      <td>24.2</td>\n",
              "      <td>77.5872</td>\n",
              "    </tr>\n",
              "    <tr>\n",
              "      <th>13</th>\n",
              "      <td>72.8</td>\n",
              "      <td>72.4</td>\n",
              "      <td>82.1</td>\n",
              "      <td>12.9664</td>\n",
              "      <td>13.4</td>\n",
              "      <td>62.6</td>\n",
              "      <td>23.7</td>\n",
              "      <td>65.4</td>\n",
              "      <td>0.2</td>\n",
              "      <td>1007.1</td>\n",
              "      <td>77.9</td>\n",
              "      <td>24.6</td>\n",
              "      <td>77.5872</td>\n",
              "    </tr>\n",
              "    <tr>\n",
              "      <th>14</th>\n",
              "      <td>70.5</td>\n",
              "      <td>72.5</td>\n",
              "      <td>79.8</td>\n",
              "      <td>12.9664</td>\n",
              "      <td>12.1</td>\n",
              "      <td>96.9</td>\n",
              "      <td>33.3</td>\n",
              "      <td>67.0</td>\n",
              "      <td>0.2</td>\n",
              "      <td>1006.9</td>\n",
              "      <td>81.1</td>\n",
              "      <td>24.2</td>\n",
              "      <td>77.5872</td>\n",
              "    </tr>\n",
              "    <tr>\n",
              "      <th>15</th>\n",
              "      <td>74.6</td>\n",
              "      <td>72.3</td>\n",
              "      <td>79.2</td>\n",
              "      <td>12.9664</td>\n",
              "      <td>10.4</td>\n",
              "      <td>93.1</td>\n",
              "      <td>52.3</td>\n",
              "      <td>66.8</td>\n",
              "      <td>0.4</td>\n",
              "      <td>1007.4</td>\n",
              "      <td>81.5</td>\n",
              "      <td>24.2</td>\n",
              "      <td>77.5872</td>\n",
              "    </tr>\n",
              "  </tbody>\n",
              "</table>\n",
              "</div>"
            ],
            "text/plain": [
              "    Wind Direction  Temperature  ...  Wind Gust  Longitude\n",
              "0             24.0         76.7  ...       12.5    77.5872\n",
              "1             42.6         76.3  ...       14.5    77.5872\n",
              "2             27.2         77.5  ...       12.8    77.5872\n",
              "3             22.6         77.6  ...       16.6    77.5872\n",
              "4             65.7         75.5  ...       22.1    77.5872\n",
              "5             68.9         76.1  ...       15.9    77.5872\n",
              "6             69.9         75.0  ...       21.3    77.5872\n",
              "7             66.0         74.1  ...       23.7    77.5872\n",
              "8             77.2         70.7  ...       24.6    77.5872\n",
              "9             70.4         71.4  ...       23.9    77.5872\n",
              "10            85.8         72.9  ...       25.3    77.5872\n",
              "11            83.4         73.0  ...       20.6    77.5872\n",
              "12            83.1         72.7  ...       24.2    77.5872\n",
              "13            72.8         72.4  ...       24.6    77.5872\n",
              "14            70.5         72.5  ...       24.2    77.5872\n",
              "15            74.6         72.3  ...       24.2    77.5872\n",
              "\n",
              "[16 rows x 13 columns]"
            ]
          },
          "metadata": {
            "tags": []
          },
          "execution_count": 4
        }
      ]
    },
    {
      "cell_type": "code",
      "metadata": {
        "id": "768Xqj3lcMMn",
        "colab_type": "code",
        "colab": {
          "base_uri": "https://localhost:8080/",
          "height": 34
        },
        "outputId": "c4aedf34-d8a1-4381-cbf4-e97cf84cf1e7"
      },
      "source": [
        "#shape()-displays total no. of rows and columns in the dataframe\n",
        "df.shape"
      ],
      "execution_count": 5,
      "outputs": [
        {
          "output_type": "execute_result",
          "data": {
            "text/plain": [
              "(16, 13)"
            ]
          },
          "metadata": {
            "tags": []
          },
          "execution_count": 5
        }
      ]
    },
    {
      "cell_type": "code",
      "metadata": {
        "id": "2kpvR2VwchEx",
        "colab_type": "code",
        "colab": {
          "base_uri": "https://localhost:8080/",
          "height": 105
        },
        "outputId": "9a823a26-ada1-4c2f-cc7e-69be8abd16b7"
      },
      "source": [
        "df.columns"
      ],
      "execution_count": 6,
      "outputs": [
        {
          "output_type": "execute_result",
          "data": {
            "text/plain": [
              "Index(['Wind Direction', 'Temperature', 'Maximum Temperature', 'Latitude',\n",
              "       'Wind Speed', 'Cloud Cover', 'Chance Precipitation (%)',\n",
              "       'Minimum Temperature', 'Precipitation', 'Sea Level Pressure',\n",
              "       'Relative Humidity', 'Wind Gust', 'Longitude'],\n",
              "      dtype='object')"
            ]
          },
          "metadata": {
            "tags": []
          },
          "execution_count": 6
        }
      ]
    },
    {
      "cell_type": "code",
      "metadata": {
        "id": "peF61r-0P36K",
        "colab_type": "code",
        "colab": {
          "base_uri": "https://localhost:8080/",
          "height": 297
        },
        "outputId": "a8f00fbe-385d-477a-94df-eb5163020061"
      },
      "source": [
        "df.plot(y='Chance Precipitation (%)',x='Temperature')"
      ],
      "execution_count": 95,
      "outputs": [
        {
          "output_type": "execute_result",
          "data": {
            "text/plain": [
              "<matplotlib.axes._subplots.AxesSubplot at 0x7ff9f7d3b470>"
            ]
          },
          "metadata": {
            "tags": []
          },
          "execution_count": 95
        },
        {
          "output_type": "display_data",
          "data": {
            "image/png": "[encoded data removed]",
            "text/plain": [
              "<Figure size 432x288 with 1 Axes>"
            ]
          },
          "metadata": {
            "tags": [],
            "needs_background": "light"
          }
        }
      ]
    },
    {
      "cell_type": "code",
      "metadata": {
        "id": "SmnfK-ErQQ_x",
        "colab_type": "code",
        "colab": {
          "base_uri": "https://localhost:8080/",
          "height": 297
        },
        "outputId": "5e0bb688-8bde-4936-cfb9-7eabe9d4ea80"
      },
      "source": [
        "df.plot(y='Wind Speed',x='Temperature')"
      ],
      "execution_count": 96,
      "outputs": [
        {
          "output_type": "execute_result",
          "data": {
            "text/plain": [
              "<matplotlib.axes._subplots.AxesSubplot at 0x7ff9f78cf278>"
            ]
          },
          "metadata": {
            "tags": []
          },
          "execution_count": 96
        },
        {
          "output_type": "display_data",
          "data": {
            "image/png": "[encoded data removed]",
            "text/plain": [
              "<Figure size 432x288 with 1 Axes>"
            ]
          },
          "metadata": {
            "tags": [],
            "needs_background": "light"
          }
        }
      ]
    },
    {
      "cell_type": "code",
      "metadata": {
        "id": "eyQg5D3IQrmE",
        "colab_type": "code",
        "colab": {
          "base_uri": "https://localhost:8080/",
          "height": 297
        },
        "outputId": "3597b12a-bc4a-4d4e-bccf-cea698724358"
      },
      "source": [
        "df.plot(y='Sea Level Pressure',x='Temperature')"
      ],
      "execution_count": 97,
      "outputs": [
        {
          "output_type": "execute_result",
          "data": {
            "text/plain": [
              "<matplotlib.axes._subplots.AxesSubplot at 0x7ff9f7862048>"
            ]
          },
          "metadata": {
            "tags": []
          },
          "execution_count": 97
        },
        {
          "output_type": "display_data",
          "data": {
            "image/png": "[encoded data removed]",
            "text/plain": [
              "<Figure size 432x288 with 1 Axes>"
            ]
          },
          "metadata": {
            "tags": [],
            "needs_background": "light"
          }
        }
      ]
    },
    {
      "cell_type": "code",
      "metadata": {
        "id": "MEM7vcseQ6g_",
        "colab_type": "code",
        "colab": {
          "base_uri": "https://localhost:8080/",
          "height": 297
        },
        "outputId": "74368b71-8f48-47fa-cdef-295eb522db72"
      },
      "source": [
        "df.plot(y='Cloud Cover',x='Temperature')"
      ],
      "execution_count": 98,
      "outputs": [
        {
          "output_type": "execute_result",
          "data": {
            "text/plain": [
              "<matplotlib.axes._subplots.AxesSubplot at 0x7ff9f77cd7b8>"
            ]
          },
          "metadata": {
            "tags": []
          },
          "execution_count": 98
        },
        {
          "output_type": "display_data",
          "data": {
            "image/png": "[encoded data removed]",
            "text/plain": [
              "<Figure size 432x288 with 1 Axes>"
            ]
          },
          "metadata": {
            "tags": [],
            "needs_background": "light"
          }
        }
      ]
    },
    {
      "cell_type": "code",
      "metadata": {
        "id": "NjCPisNzRLe_",
        "colab_type": "code",
        "colab": {
          "base_uri": "https://localhost:8080/",
          "height": 297
        },
        "outputId": "c789fe15-82b4-4d10-cf09-a85f4773ea57"
      },
      "source": [
        "df.plot(y='Relative Humidity',x='Temperature')"
      ],
      "execution_count": 99,
      "outputs": [
        {
          "output_type": "execute_result",
          "data": {
            "text/plain": [
              "<matplotlib.axes._subplots.AxesSubplot at 0x7ff9f7733b00>"
            ]
          },
          "metadata": {
            "tags": []
          },
          "execution_count": 99
        },
        {
          "output_type": "display_data",
          "data": {
            "image/png": "[encoded data removed]",
            "text/plain": [
              "<Figure size 432x288 with 1 Axes>"
            ]
          },
          "metadata": {
            "tags": [],
            "needs_background": "light"
          }
        }
      ]
    },
    {
      "cell_type": "code",
      "metadata": {
        "id": "iUdKCiMVdLKf",
        "colab_type": "code",
        "colab": {
          "base_uri": "https://localhost:8080/",
          "height": 310
        },
        "outputId": "4c7eaac2-5ea6-4a48-bfe4-0692a8d1b9ec"
      },
      "source": [
        "df.plot(kind='bar',y='Chance Precipitation (%)',x='Temperature')"
      ],
      "execution_count": 94,
      "outputs": [
        {
          "output_type": "execute_result",
          "data": {
            "text/plain": [
              "<matplotlib.axes._subplots.AxesSubplot at 0x7ff9f7e33d68>"
            ]
          },
          "metadata": {
            "tags": []
          },
          "execution_count": 94
        },
        {
          "output_type": "display_data",
          "data": {
            "image/png": "[encoded data removed]",
            "text/plain": [
              "<Figure size 432x288 with 1 Axes>"
            ]
          },
          "metadata": {
            "tags": [],
            "needs_background": "light"
          }
        }
      ]
    },
    {
      "cell_type": "code",
      "metadata": {
        "id": "RqW6kix1Owy3",
        "colab_type": "code",
        "colab": {
          "base_uri": "https://localhost:8080/",
          "height": 297
        },
        "outputId": "26190cad-3d46-4335-80fa-bc0cd7166732"
      },
      "source": [
        "df.plot(y='Wind Direction',x='Temperature')"
      ],
      "execution_count": 100,
      "outputs": [
        {
          "output_type": "execute_result",
          "data": {
            "text/plain": [
              "<matplotlib.axes._subplots.AxesSubplot at 0x7ff9f78626d8>"
            ]
          },
          "metadata": {
            "tags": []
          },
          "execution_count": 100
        },
        {
          "output_type": "display_data",
          "data": {
            "image/png": "[encoded data removed]",
            "text/plain": [
              "<Figure size 432x288 with 1 Axes>"
            ]
          },
          "metadata": {
            "tags": [],
            "needs_background": "light"
          }
        }
      ]
    },
    {
      "cell_type": "code",
      "metadata": {
        "id": "qW-ZTXimIsSN",
        "colab_type": "code",
        "colab": {}
      },
      "source": [
        "weather_y=df.pop('Temperature')\n",
        "weather_x=df"
      ],
      "execution_count": 7,
      "outputs": []
    },
    {
      "cell_type": "code",
      "metadata": {
        "id": "dtnymUkIfHdv",
        "colab_type": "code",
        "colab": {}
      },
      "source": [
        "train_x,test_x,train_y,test_y=train_test_split(weather_x,weather_y,test_size=0.3,random_state=4)"
      ],
      "execution_count": 8,
      "outputs": []
    },
    {
      "cell_type": "code",
      "metadata": {
        "id": "PXn0f4ahfas-",
        "colab_type": "code",
        "colab": {
          "base_uri": "https://localhost:8080/",
          "height": 229
        },
        "outputId": "ca54c4cd-26dc-45db-c378-14b05f13311d"
      },
      "source": [
        "train_x.head()"
      ],
      "execution_count": 9,
      "outputs": [
        {
          "output_type": "execute_result",
          "data": {
            "text/html": [
              "<div>\n",
              "<style scoped>\n",
              "    .dataframe tbody tr th:only-of-type {\n",
              "        vertical-align: middle;\n",
              "    }\n",
              "\n",
              "    .dataframe tbody tr th {\n",
              "        vertical-align: top;\n",
              "    }\n",
              "\n",
              "    .dataframe thead th {\n",
              "        text-align: right;\n",
              "    }\n",
              "</style>\n",
              "<table border=\"1\" class=\"dataframe\">\n",
              "  <thead>\n",
              "    <tr style=\"text-align: right;\">\n",
              "      <th></th>\n",
              "      <th>Wind Direction</th>\n",
              "      <th>Maximum Temperature</th>\n",
              "      <th>Latitude</th>\n",
              "      <th>Wind Speed</th>\n",
              "      <th>Cloud Cover</th>\n",
              "      <th>Chance Precipitation (%)</th>\n",
              "      <th>Minimum Temperature</th>\n",
              "      <th>Precipitation</th>\n",
              "      <th>Sea Level Pressure</th>\n",
              "      <th>Relative Humidity</th>\n",
              "      <th>Wind Gust</th>\n",
              "      <th>Longitude</th>\n",
              "    </tr>\n",
              "  </thead>\n",
              "  <tbody>\n",
              "    <tr>\n",
              "      <th>9</th>\n",
              "      <td>70.4</td>\n",
              "      <td>78.9</td>\n",
              "      <td>12.9664</td>\n",
              "      <td>12.5</td>\n",
              "      <td>98.9</td>\n",
              "      <td>76.1</td>\n",
              "      <td>67.7</td>\n",
              "      <td>0.3</td>\n",
              "      <td>1007.4</td>\n",
              "      <td>83.7</td>\n",
              "      <td>23.9</td>\n",
              "      <td>77.5872</td>\n",
              "    </tr>\n",
              "    <tr>\n",
              "      <th>11</th>\n",
              "      <td>83.4</td>\n",
              "      <td>81.8</td>\n",
              "      <td>12.9664</td>\n",
              "      <td>11.0</td>\n",
              "      <td>85.8</td>\n",
              "      <td>23.8</td>\n",
              "      <td>66.5</td>\n",
              "      <td>0.1</td>\n",
              "      <td>1006.9</td>\n",
              "      <td>78.2</td>\n",
              "      <td>20.6</td>\n",
              "      <td>77.5872</td>\n",
              "    </tr>\n",
              "    <tr>\n",
              "      <th>2</th>\n",
              "      <td>27.2</td>\n",
              "      <td>86.4</td>\n",
              "      <td>12.9664</td>\n",
              "      <td>4.2</td>\n",
              "      <td>38.0</td>\n",
              "      <td>95.1</td>\n",
              "      <td>70.6</td>\n",
              "      <td>0.2</td>\n",
              "      <td>1006.2</td>\n",
              "      <td>74.1</td>\n",
              "      <td>12.8</td>\n",
              "      <td>77.5872</td>\n",
              "    </tr>\n",
              "    <tr>\n",
              "      <th>15</th>\n",
              "      <td>74.6</td>\n",
              "      <td>79.2</td>\n",
              "      <td>12.9664</td>\n",
              "      <td>10.4</td>\n",
              "      <td>93.1</td>\n",
              "      <td>52.3</td>\n",
              "      <td>66.8</td>\n",
              "      <td>0.4</td>\n",
              "      <td>1007.4</td>\n",
              "      <td>81.5</td>\n",
              "      <td>24.2</td>\n",
              "      <td>77.5872</td>\n",
              "    </tr>\n",
              "    <tr>\n",
              "      <th>13</th>\n",
              "      <td>72.8</td>\n",
              "      <td>82.1</td>\n",
              "      <td>12.9664</td>\n",
              "      <td>13.4</td>\n",
              "      <td>62.6</td>\n",
              "      <td>23.7</td>\n",
              "      <td>65.4</td>\n",
              "      <td>0.2</td>\n",
              "      <td>1007.1</td>\n",
              "      <td>77.9</td>\n",
              "      <td>24.6</td>\n",
              "      <td>77.5872</td>\n",
              "    </tr>\n",
              "  </tbody>\n",
              "</table>\n",
              "</div>"
            ],
            "text/plain": [
              "    Wind Direction  Maximum Temperature  ...  Wind Gust  Longitude\n",
              "9             70.4                 78.9  ...       23.9    77.5872\n",
              "11            83.4                 81.8  ...       20.6    77.5872\n",
              "2             27.2                 86.4  ...       12.8    77.5872\n",
              "15            74.6                 79.2  ...       24.2    77.5872\n",
              "13            72.8                 82.1  ...       24.6    77.5872\n",
              "\n",
              "[5 rows x 12 columns]"
            ]
          },
          "metadata": {
            "tags": []
          },
          "execution_count": 9
        }
      ]
    },
    {
      "cell_type": "code",
      "metadata": {
        "id": "5AYE_A4qfh6P",
        "colab_type": "code",
        "colab": {
          "base_uri": "https://localhost:8080/",
          "height": 34
        },
        "outputId": "8ef44f1e-924d-4302-8c0b-dc19b6deb9d5"
      },
      "source": [
        "model=LinearRegression ()\n",
        "model.fit(train_x,train_y)"
      ],
      "execution_count": 10,
      "outputs": [
        {
          "output_type": "execute_result",
          "data": {
            "text/plain": [
              "LinearRegression(copy_X=True, fit_intercept=True, n_jobs=None, normalize=False)"
            ]
          },
          "metadata": {
            "tags": []
          },
          "execution_count": 10
        }
      ]
    },
    {
      "cell_type": "code",
      "metadata": {
        "id": "22SPH_d-Nj-n",
        "colab_type": "code",
        "colab": {}
      },
      "source": [
        "prediction=model.predict(test_x)"
      ],
      "execution_count": 11,
      "outputs": []
    },
    {
      "cell_type": "code",
      "metadata": {
        "id": "fnZto2_A_J_d",
        "colab_type": "code",
        "colab": {
          "base_uri": "https://localhost:8080/",
          "height": 195
        },
        "outputId": "5113ab3b-93b6-45a5-9334-b711af97d5c0"
      },
      "source": [
        "pd.DataFrame({'actual':test_y, \n",
        "'prediction': prediction,\n",
        "'diff':(test_y-prediction)})"
      ],
      "execution_count": 12,
      "outputs": [
        {
          "output_type": "execute_result",
          "data": {
            "text/html": [
              "<div>\n",
              "<style scoped>\n",
              "    .dataframe tbody tr th:only-of-type {\n",
              "        vertical-align: middle;\n",
              "    }\n",
              "\n",
              "    .dataframe tbody tr th {\n",
              "        vertical-align: top;\n",
              "    }\n",
              "\n",
              "    .dataframe thead th {\n",
              "        text-align: right;\n",
              "    }\n",
              "</style>\n",
              "<table border=\"1\" class=\"dataframe\">\n",
              "  <thead>\n",
              "    <tr style=\"text-align: right;\">\n",
              "      <th></th>\n",
              "      <th>actual</th>\n",
              "      <th>prediction</th>\n",
              "      <th>diff</th>\n",
              "    </tr>\n",
              "  </thead>\n",
              "  <tbody>\n",
              "    <tr>\n",
              "      <th>12</th>\n",
              "      <td>72.7</td>\n",
              "      <td>72.578265</td>\n",
              "      <td>0.121735</td>\n",
              "    </tr>\n",
              "    <tr>\n",
              "      <th>0</th>\n",
              "      <td>76.7</td>\n",
              "      <td>76.793417</td>\n",
              "      <td>-0.093417</td>\n",
              "    </tr>\n",
              "    <tr>\n",
              "      <th>6</th>\n",
              "      <td>75.0</td>\n",
              "      <td>74.647938</td>\n",
              "      <td>0.352062</td>\n",
              "    </tr>\n",
              "    <tr>\n",
              "      <th>3</th>\n",
              "      <td>77.6</td>\n",
              "      <td>79.276679</td>\n",
              "      <td>-1.676679</td>\n",
              "    </tr>\n",
              "    <tr>\n",
              "      <th>4</th>\n",
              "      <td>75.5</td>\n",
              "      <td>76.468255</td>\n",
              "      <td>-0.968255</td>\n",
              "    </tr>\n",
              "  </tbody>\n",
              "</table>\n",
              "</div>"
            ],
            "text/plain": [
              "    actual  prediction      diff\n",
              "12    72.7   72.578265  0.121735\n",
              "0     76.7   76.793417 -0.093417\n",
              "6     75.0   74.647938  0.352062\n",
              "3     77.6   79.276679 -1.676679\n",
              "4     75.5   76.468255 -0.968255"
            ]
          },
          "metadata": {
            "tags": []
          },
          "execution_count": 12
        }
      ]
    },
    {
      "cell_type": "code",
      "metadata": {
        "id": "qcV68VccSiXJ",
        "colab_type": "code",
        "colab": {
          "base_uri": "https://localhost:8080/",
          "height": 158
        },
        "outputId": "b1871c85-3cbd-4ad0-c9ae-8faddbb5ca0d"
      },
      "source": [
        "# Compute performance metrics\n",
        "print(\"Linear regressor performance:\")\n",
        "print(\"Mean absolute error =\", round(sm.mean_absolute_error(test_y,test_y-prediction ), 2))\n",
        "print(\"Mean squared error =\", round(sm.mean_squared_error(test_y, test_y-prediction), 2)) \n",
        "print(\"Median absolute error =\", round(sm.median_absolute_error(test_y, test_y-prediction), 2)) \n",
        "print(\"Explain variance score =\", round(sm.explained_variance_score(test_y, test_y-prediction), 2))\n",
        "print(\"R2 score =\", round(sm.r2_score(test_y, test_y-prediction), 2))\n",
        "\n",
        "# Perform prediction on train data\n",
        "y_test_pred_new = model.predict(test_x)\n",
        "print(\"\\nNew mean absolute error =\", round(sm.r2_score(test_y, y_test_pred_new), 2))"
      ],
      "execution_count": 14,
      "outputs": [
        {
          "output_type": "stream",
          "text": [
            "Linear regressor performance:\n",
            "Mean absolute error = 75.95\n",
            "Mean squared error = 5773.87\n",
            "Median absolute error = 76.47\n",
            "Explain variance score = -0.8\n",
            "R2 score = -2069.97\n",
            "\n",
            "New mean absolute error = 0.72\n"
          ],
          "name": "stdout"
        }
      ]
    }
  ]
}
