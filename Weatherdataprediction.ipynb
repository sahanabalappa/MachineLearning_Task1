{
 "cells": [
  {
   "cell_type": "code",
   "execution_count": 1,
   "metadata": {},
   "outputs": [],
   "source": [
    "import pandas as pd\n",
    "import matplotlib.pyplot as plt\n",
    "import sklearn\n",
    "from sklearn.model_selection import train_test_split\n",
    "from sklearn.linear_model import LinearRegression"
   ]
  },
  {
   "cell_type": "code",
   "execution_count": 2,
   "metadata": {},
   "outputs": [],
   "source": [
    "df=pd.read_csv(r'C:\\Users\\Admin\\Desktop\\weatherdata.csv')"
   ]
  },
  {
   "cell_type": "code",
   "execution_count": 3,
   "metadata": {
    "scrolled": true
   },
   "outputs": [
    {
     "data": {
      "text/html": [
       "<div>\n",
       "<style scoped>\n",
       "    .dataframe tbody tr th:only-of-type {\n",
       "        vertical-align: middle;\n",
       "    }\n",
       "\n",
       "    .dataframe tbody tr th {\n",
       "        vertical-align: top;\n",
       "    }\n",
       "\n",
       "    .dataframe thead th {\n",
       "        text-align: right;\n",
       "    }\n",
       "</style>\n",
       "<table border=\"1\" class=\"dataframe\">\n",
       "  <thead>\n",
       "    <tr style=\"text-align: right;\">\n",
       "      <th></th>\n",
       "      <th>Location</th>\n",
       "      <th>Address</th>\n",
       "      <th>Resolved Address</th>\n",
       "      <th>Wind Direction</th>\n",
       "      <th>Temperature</th>\n",
       "      <th>Maximum Temperature</th>\n",
       "      <th>Latitude</th>\n",
       "      <th>Wind Speed</th>\n",
       "      <th>Cloud Cover</th>\n",
       "      <th>Heat Index</th>\n",
       "      <th>...</th>\n",
       "      <th>Sea Level Pressure</th>\n",
       "      <th>Snow Depth</th>\n",
       "      <th>Snow</th>\n",
       "      <th>Name</th>\n",
       "      <th>Relative Humidity</th>\n",
       "      <th>ID</th>\n",
       "      <th>Wind Gust</th>\n",
       "      <th>Conditions</th>\n",
       "      <th>Wind Chill</th>\n",
       "      <th>Longitude</th>\n",
       "    </tr>\n",
       "  </thead>\n",
       "  <tbody>\n",
       "    <tr>\n",
       "      <th>0</th>\n",
       "      <td>Bengaluru, KA, IN</td>\n",
       "      <td>Bengaluru, KA, IN</td>\n",
       "      <td>NaN</td>\n",
       "      <td>24.0</td>\n",
       "      <td>76.7</td>\n",
       "      <td>82.5</td>\n",
       "      <td>12.9664</td>\n",
       "      <td>6.2</td>\n",
       "      <td>99.8</td>\n",
       "      <td>84.8</td>\n",
       "      <td>...</td>\n",
       "      <td>1006.5</td>\n",
       "      <td>0</td>\n",
       "      <td>0</td>\n",
       "      <td>Bengaluru, KA, IN</td>\n",
       "      <td>74.0</td>\n",
       "      <td>NaN</td>\n",
       "      <td>12.5</td>\n",
       "      <td>Rain, Overcast</td>\n",
       "      <td>NaN</td>\n",
       "      <td>77.5872</td>\n",
       "    </tr>\n",
       "    <tr>\n",
       "      <th>1</th>\n",
       "      <td>Bengaluru, KA, IN</td>\n",
       "      <td>Bengaluru, KA, IN</td>\n",
       "      <td>NaN</td>\n",
       "      <td>42.6</td>\n",
       "      <td>76.3</td>\n",
       "      <td>83.2</td>\n",
       "      <td>12.9664</td>\n",
       "      <td>3.9</td>\n",
       "      <td>87.2</td>\n",
       "      <td>85.3</td>\n",
       "      <td>...</td>\n",
       "      <td>1006.9</td>\n",
       "      <td>0</td>\n",
       "      <td>0</td>\n",
       "      <td>Bengaluru, KA, IN</td>\n",
       "      <td>75.1</td>\n",
       "      <td>NaN</td>\n",
       "      <td>14.5</td>\n",
       "      <td>Rain, Overcast</td>\n",
       "      <td>NaN</td>\n",
       "      <td>77.5872</td>\n",
       "    </tr>\n",
       "    <tr>\n",
       "      <th>2</th>\n",
       "      <td>Bengaluru, KA, IN</td>\n",
       "      <td>Bengaluru, KA, IN</td>\n",
       "      <td>NaN</td>\n",
       "      <td>27.2</td>\n",
       "      <td>77.5</td>\n",
       "      <td>86.4</td>\n",
       "      <td>12.9664</td>\n",
       "      <td>4.2</td>\n",
       "      <td>38.0</td>\n",
       "      <td>89.1</td>\n",
       "      <td>...</td>\n",
       "      <td>1006.2</td>\n",
       "      <td>0</td>\n",
       "      <td>0</td>\n",
       "      <td>Bengaluru, KA, IN</td>\n",
       "      <td>74.1</td>\n",
       "      <td>NaN</td>\n",
       "      <td>12.8</td>\n",
       "      <td>Rain, Partially cloudy</td>\n",
       "      <td>NaN</td>\n",
       "      <td>77.5872</td>\n",
       "    </tr>\n",
       "    <tr>\n",
       "      <th>3</th>\n",
       "      <td>Bengaluru, KA, IN</td>\n",
       "      <td>Bengaluru, KA, IN</td>\n",
       "      <td>NaN</td>\n",
       "      <td>22.6</td>\n",
       "      <td>77.6</td>\n",
       "      <td>84.3</td>\n",
       "      <td>12.9664</td>\n",
       "      <td>4.8</td>\n",
       "      <td>77.0</td>\n",
       "      <td>88.0</td>\n",
       "      <td>...</td>\n",
       "      <td>1005.8</td>\n",
       "      <td>0</td>\n",
       "      <td>0</td>\n",
       "      <td>Bengaluru, KA, IN</td>\n",
       "      <td>74.8</td>\n",
       "      <td>NaN</td>\n",
       "      <td>16.6</td>\n",
       "      <td>Rain, Overcast</td>\n",
       "      <td>NaN</td>\n",
       "      <td>77.5872</td>\n",
       "    </tr>\n",
       "    <tr>\n",
       "      <th>4</th>\n",
       "      <td>Bengaluru, KA, IN</td>\n",
       "      <td>Bengaluru, KA, IN</td>\n",
       "      <td>NaN</td>\n",
       "      <td>65.7</td>\n",
       "      <td>75.5</td>\n",
       "      <td>82.3</td>\n",
       "      <td>12.9664</td>\n",
       "      <td>7.9</td>\n",
       "      <td>71.4</td>\n",
       "      <td>85.5</td>\n",
       "      <td>...</td>\n",
       "      <td>1006.8</td>\n",
       "      <td>0</td>\n",
       "      <td>0</td>\n",
       "      <td>Bengaluru, KA, IN</td>\n",
       "      <td>78.8</td>\n",
       "      <td>NaN</td>\n",
       "      <td>22.1</td>\n",
       "      <td>Rain, Partially cloudy</td>\n",
       "      <td>NaN</td>\n",
       "      <td>77.5872</td>\n",
       "    </tr>\n",
       "  </tbody>\n",
       "</table>\n",
       "<p>5 rows × 24 columns</p>\n",
       "</div>"
      ],
      "text/plain": [
       "            Location            Address  Resolved Address  Wind Direction  \\\n",
       "0  Bengaluru, KA, IN  Bengaluru, KA, IN               NaN            24.0   \n",
       "1  Bengaluru, KA, IN  Bengaluru, KA, IN               NaN            42.6   \n",
       "2  Bengaluru, KA, IN  Bengaluru, KA, IN               NaN            27.2   \n",
       "3  Bengaluru, KA, IN  Bengaluru, KA, IN               NaN            22.6   \n",
       "4  Bengaluru, KA, IN  Bengaluru, KA, IN               NaN            65.7   \n",
       "\n",
       "   Temperature  Maximum Temperature  Latitude  Wind Speed  Cloud Cover  \\\n",
       "0         76.7                 82.5   12.9664         6.2         99.8   \n",
       "1         76.3                 83.2   12.9664         3.9         87.2   \n",
       "2         77.5                 86.4   12.9664         4.2         38.0   \n",
       "3         77.6                 84.3   12.9664         4.8         77.0   \n",
       "4         75.5                 82.3   12.9664         7.9         71.4   \n",
       "\n",
       "   Heat Index    ...      Sea Level Pressure  Snow Depth Snow  \\\n",
       "0        84.8    ...                  1006.5           0    0   \n",
       "1        85.3    ...                  1006.9           0    0   \n",
       "2        89.1    ...                  1006.2           0    0   \n",
       "3        88.0    ...                  1005.8           0    0   \n",
       "4        85.5    ...                  1006.8           0    0   \n",
       "\n",
       "                Name  Relative Humidity  ID  Wind Gust  \\\n",
       "0  Bengaluru, KA, IN               74.0 NaN       12.5   \n",
       "1  Bengaluru, KA, IN               75.1 NaN       14.5   \n",
       "2  Bengaluru, KA, IN               74.1 NaN       12.8   \n",
       "3  Bengaluru, KA, IN               74.8 NaN       16.6   \n",
       "4  Bengaluru, KA, IN               78.8 NaN       22.1   \n",
       "\n",
       "               Conditions  Wind Chill  Longitude  \n",
       "0          Rain, Overcast         NaN    77.5872  \n",
       "1          Rain, Overcast         NaN    77.5872  \n",
       "2  Rain, Partially cloudy         NaN    77.5872  \n",
       "3          Rain, Overcast         NaN    77.5872  \n",
       "4  Rain, Partially cloudy         NaN    77.5872  \n",
       "\n",
       "[5 rows x 24 columns]"
      ]
     },
     "execution_count": 3,
     "metadata": {},
     "output_type": "execute_result"
    }
   ],
   "source": [
    "#head()-displays first n rows in the data(by default n=5)\n",
    "df.head()"
   ]
  },
  {
   "cell_type": "code",
   "execution_count": 4,
   "metadata": {},
   "outputs": [
    {
     "data": {
      "text/plain": [
       "(16, 24)"
      ]
     },
     "execution_count": 4,
     "metadata": {},
     "output_type": "execute_result"
    }
   ],
   "source": [
    "#shape()-displays total no. of rows and columns in the dataframe\n",
    "df.shape"
   ]
  },
  {
   "cell_type": "code",
   "execution_count": 5,
   "metadata": {},
   "outputs": [
    {
     "data": {
      "text/plain": [
       "Index(['Location', 'Address', 'Resolved Address', 'Wind Direction',\n",
       "       'Temperature', 'Maximum Temperature', 'Latitude', 'Wind Speed',\n",
       "       'Cloud Cover', 'Heat Index', 'Chance Precipitation (%)',\n",
       "       'Minimum Temperature', 'Date time', 'Precipitation',\n",
       "       'Sea Level Pressure', 'Snow Depth', 'Snow', 'Name', 'Relative Humidity',\n",
       "       'ID', 'Wind Gust', 'Conditions', 'Wind Chill', 'Longitude'],\n",
       "      dtype='object')"
      ]
     },
     "execution_count": 5,
     "metadata": {},
     "output_type": "execute_result"
    }
   ],
   "source": [
    "df.columns"
   ]
  },
  {
   "cell_type": "code",
   "execution_count": 6,
   "metadata": {},
   "outputs": [
    {
     "data": {
      "text/plain": [
       "Location                     object\n",
       "Address                      object\n",
       "Resolved Address            float64\n",
       "Wind Direction              float64\n",
       "Temperature                 float64\n",
       "Maximum Temperature         float64\n",
       "Latitude                    float64\n",
       "Wind Speed                  float64\n",
       "Cloud Cover                 float64\n",
       "Heat Index                  float64\n",
       "Chance Precipitation (%)    float64\n",
       "Minimum Temperature         float64\n",
       "Date time                    object\n",
       "Precipitation               float64\n",
       "Sea Level Pressure          float64\n",
       "Snow Depth                    int64\n",
       "Snow                          int64\n",
       "Name                         object\n",
       "Relative Humidity           float64\n",
       "ID                          float64\n",
       "Wind Gust                   float64\n",
       "Conditions                   object\n",
       "Wind Chill                  float64\n",
       "Longitude                   float64\n",
       "dtype: object"
      ]
     },
     "execution_count": 6,
     "metadata": {},
     "output_type": "execute_result"
    }
   ],
   "source": [
    "df.dtypes"
   ]
  },
  {
   "cell_type": "code",
   "execution_count": 7,
   "metadata": {},
   "outputs": [
    {
     "data": {
      "text/plain": [
       "<matplotlib.axes._subplots.AxesSubplot at 0x21bb5536978>"
      ]
     },
     "execution_count": 7,
     "metadata": {},
     "output_type": "execute_result"
    },
    {
     "data": {
      "image/png": "[encoded data removed]",
      "text/plain": [
       "<Figure size 432x288 with 1 Axes>"
      ]
     },
     "metadata": {
      "needs_background": "light"
     },
     "output_type": "display_data"
    }
   ],
   "source": [
    "df.plot(kind='bar',x='Wind Direction',y='Temperature')"
   ]
  },
  {
   "cell_type": "code",
   "execution_count": 8,
   "metadata": {},
   "outputs": [
    {
     "data": {
      "text/plain": [
       "<matplotlib.axes._subplots.AxesSubplot at 0x21bb764c3c8>"
      ]
     },
     "execution_count": 8,
     "metadata": {},
     "output_type": "execute_result"
    },
    {
     "data": {
      "image/png": "[encoded data removed]",
      "text/plain": [
       "<Figure size 432x288 with 1 Axes>"
      ]
     },
     "metadata": {
      "needs_background": "light"
     },
     "output_type": "display_data"
    }
   ],
   "source": [
    "df.plot(kind='bar',y='Wind Speed',x='Temperature')"
   ]
  },
  {
   "cell_type": "code",
   "execution_count": 10,
   "metadata": {},
   "outputs": [
    {
     "data": {
      "text/plain": [
       "<matplotlib.axes._subplots.AxesSubplot at 0x21bb7793cf8>"
      ]
     },
     "execution_count": 10,
     "metadata": {},
     "output_type": "execute_result"
    },
    {
     "data": {
      "image/png": "[encoded data removed]",
      "text/plain": [
       "<Figure size 432x288 with 1 Axes>"
      ]
     },
     "metadata": {
      "needs_background": "light"
     },
     "output_type": "display_data"
    }
   ],
   "source": [
    "df.plot(kind='bar',y='Cloud Cover',x='Temperature')"
   ]
  },
  {
   "cell_type": "code",
   "execution_count": 11,
   "metadata": {},
   "outputs": [
    {
     "data": {
      "text/plain": [
       "<matplotlib.axes._subplots.AxesSubplot at 0x21bb7830f60>"
      ]
     },
     "execution_count": 11,
     "metadata": {},
     "output_type": "execute_result"
    },
    {
     "data": {
      "image/png": "[encoded data removed]",
      "text/plain": [
       "<Figure size 432x288 with 1 Axes>"
      ]
     },
     "metadata": {
      "needs_background": "light"
     },
     "output_type": "display_data"
    }
   ],
   "source": [
    "df.plot(kind='bar',y='Chance Precipitation (%)',x='Temperature')"
   ]
  },
  {
   "cell_type": "code",
   "execution_count": 12,
   "metadata": {},
   "outputs": [],
   "source": [
    "weather_y=df.pop('Temperature')\n",
    "weather_x=df"
   ]
  },
  {
   "cell_type": "code",
   "execution_count": 13,
   "metadata": {},
   "outputs": [],
   "source": [
    "train_x,test_x,train_y,test_y=train_test_split(weather_x,weather_y,test_size=0.3,random_state=4)"
   ]
  },
  {
   "cell_type": "code",
   "execution_count": 14,
   "metadata": {},
   "outputs": [
    {
     "data": {
      "text/html": [
       "<div>\n",
       "<style scoped>\n",
       "    .dataframe tbody tr th:only-of-type {\n",
       "        vertical-align: middle;\n",
       "    }\n",
       "\n",
       "    .dataframe tbody tr th {\n",
       "        vertical-align: top;\n",
       "    }\n",
       "\n",
       "    .dataframe thead th {\n",
       "        text-align: right;\n",
       "    }\n",
       "</style>\n",
       "<table border=\"1\" class=\"dataframe\">\n",
       "  <thead>\n",
       "    <tr style=\"text-align: right;\">\n",
       "      <th></th>\n",
       "      <th>Location</th>\n",
       "      <th>Address</th>\n",
       "      <th>Resolved Address</th>\n",
       "      <th>Wind Direction</th>\n",
       "      <th>Maximum Temperature</th>\n",
       "      <th>Latitude</th>\n",
       "      <th>Wind Speed</th>\n",
       "      <th>Cloud Cover</th>\n",
       "      <th>Heat Index</th>\n",
       "      <th>Chance Precipitation (%)</th>\n",
       "      <th>...</th>\n",
       "      <th>Sea Level Pressure</th>\n",
       "      <th>Snow Depth</th>\n",
       "      <th>Snow</th>\n",
       "      <th>Name</th>\n",
       "      <th>Relative Humidity</th>\n",
       "      <th>ID</th>\n",
       "      <th>Wind Gust</th>\n",
       "      <th>Conditions</th>\n",
       "      <th>Wind Chill</th>\n",
       "      <th>Longitude</th>\n",
       "    </tr>\n",
       "  </thead>\n",
       "  <tbody>\n",
       "    <tr>\n",
       "      <th>9</th>\n",
       "      <td>Bengaluru, KA, IN</td>\n",
       "      <td>Bengaluru, KA, IN</td>\n",
       "      <td>NaN</td>\n",
       "      <td>70.4</td>\n",
       "      <td>78.9</td>\n",
       "      <td>12.9664</td>\n",
       "      <td>12.5</td>\n",
       "      <td>98.9</td>\n",
       "      <td>NaN</td>\n",
       "      <td>76.1</td>\n",
       "      <td>...</td>\n",
       "      <td>1007.4</td>\n",
       "      <td>0</td>\n",
       "      <td>0</td>\n",
       "      <td>Bengaluru, KA, IN</td>\n",
       "      <td>83.7</td>\n",
       "      <td>NaN</td>\n",
       "      <td>23.9</td>\n",
       "      <td>Rain, Overcast</td>\n",
       "      <td>NaN</td>\n",
       "      <td>77.5872</td>\n",
       "    </tr>\n",
       "    <tr>\n",
       "      <th>11</th>\n",
       "      <td>Bengaluru, KA, IN</td>\n",
       "      <td>Bengaluru, KA, IN</td>\n",
       "      <td>NaN</td>\n",
       "      <td>83.4</td>\n",
       "      <td>81.8</td>\n",
       "      <td>12.9664</td>\n",
       "      <td>11.0</td>\n",
       "      <td>85.8</td>\n",
       "      <td>83.7</td>\n",
       "      <td>23.8</td>\n",
       "      <td>...</td>\n",
       "      <td>1006.9</td>\n",
       "      <td>0</td>\n",
       "      <td>0</td>\n",
       "      <td>Bengaluru, KA, IN</td>\n",
       "      <td>78.2</td>\n",
       "      <td>NaN</td>\n",
       "      <td>20.6</td>\n",
       "      <td>Overcast</td>\n",
       "      <td>NaN</td>\n",
       "      <td>77.5872</td>\n",
       "    </tr>\n",
       "    <tr>\n",
       "      <th>2</th>\n",
       "      <td>Bengaluru, KA, IN</td>\n",
       "      <td>Bengaluru, KA, IN</td>\n",
       "      <td>NaN</td>\n",
       "      <td>27.2</td>\n",
       "      <td>86.4</td>\n",
       "      <td>12.9664</td>\n",
       "      <td>4.2</td>\n",
       "      <td>38.0</td>\n",
       "      <td>89.1</td>\n",
       "      <td>95.1</td>\n",
       "      <td>...</td>\n",
       "      <td>1006.2</td>\n",
       "      <td>0</td>\n",
       "      <td>0</td>\n",
       "      <td>Bengaluru, KA, IN</td>\n",
       "      <td>74.1</td>\n",
       "      <td>NaN</td>\n",
       "      <td>12.8</td>\n",
       "      <td>Rain, Partially cloudy</td>\n",
       "      <td>NaN</td>\n",
       "      <td>77.5872</td>\n",
       "    </tr>\n",
       "    <tr>\n",
       "      <th>15</th>\n",
       "      <td>Bengaluru, KA, IN</td>\n",
       "      <td>Bengaluru, KA, IN</td>\n",
       "      <td>NaN</td>\n",
       "      <td>74.6</td>\n",
       "      <td>79.2</td>\n",
       "      <td>12.9664</td>\n",
       "      <td>10.4</td>\n",
       "      <td>93.1</td>\n",
       "      <td>NaN</td>\n",
       "      <td>52.3</td>\n",
       "      <td>...</td>\n",
       "      <td>1007.4</td>\n",
       "      <td>0</td>\n",
       "      <td>0</td>\n",
       "      <td>Bengaluru, KA, IN</td>\n",
       "      <td>81.5</td>\n",
       "      <td>NaN</td>\n",
       "      <td>24.2</td>\n",
       "      <td>Rain, Overcast</td>\n",
       "      <td>NaN</td>\n",
       "      <td>77.5872</td>\n",
       "    </tr>\n",
       "    <tr>\n",
       "      <th>13</th>\n",
       "      <td>Bengaluru, KA, IN</td>\n",
       "      <td>Bengaluru, KA, IN</td>\n",
       "      <td>NaN</td>\n",
       "      <td>72.8</td>\n",
       "      <td>82.1</td>\n",
       "      <td>12.9664</td>\n",
       "      <td>13.4</td>\n",
       "      <td>62.6</td>\n",
       "      <td>84.2</td>\n",
       "      <td>23.7</td>\n",
       "      <td>...</td>\n",
       "      <td>1007.1</td>\n",
       "      <td>0</td>\n",
       "      <td>0</td>\n",
       "      <td>Bengaluru, KA, IN</td>\n",
       "      <td>77.9</td>\n",
       "      <td>NaN</td>\n",
       "      <td>24.6</td>\n",
       "      <td>Partially cloudy</td>\n",
       "      <td>NaN</td>\n",
       "      <td>77.5872</td>\n",
       "    </tr>\n",
       "  </tbody>\n",
       "</table>\n",
       "<p>5 rows × 23 columns</p>\n",
       "</div>"
      ],
      "text/plain": [
       "             Location            Address  Resolved Address  Wind Direction  \\\n",
       "9   Bengaluru, KA, IN  Bengaluru, KA, IN               NaN            70.4   \n",
       "11  Bengaluru, KA, IN  Bengaluru, KA, IN               NaN            83.4   \n",
       "2   Bengaluru, KA, IN  Bengaluru, KA, IN               NaN            27.2   \n",
       "15  Bengaluru, KA, IN  Bengaluru, KA, IN               NaN            74.6   \n",
       "13  Bengaluru, KA, IN  Bengaluru, KA, IN               NaN            72.8   \n",
       "\n",
       "    Maximum Temperature  Latitude  Wind Speed  Cloud Cover  Heat Index  \\\n",
       "9                  78.9   12.9664        12.5         98.9         NaN   \n",
       "11                 81.8   12.9664        11.0         85.8        83.7   \n",
       "2                  86.4   12.9664         4.2         38.0        89.1   \n",
       "15                 79.2   12.9664        10.4         93.1         NaN   \n",
       "13                 82.1   12.9664        13.4         62.6        84.2   \n",
       "\n",
       "    Chance Precipitation (%)    ...      Sea Level Pressure Snow Depth  Snow  \\\n",
       "9                       76.1    ...                  1007.4          0     0   \n",
       "11                      23.8    ...                  1006.9          0     0   \n",
       "2                       95.1    ...                  1006.2          0     0   \n",
       "15                      52.3    ...                  1007.4          0     0   \n",
       "13                      23.7    ...                  1007.1          0     0   \n",
       "\n",
       "                 Name  Relative Humidity  ID Wind Gust  \\\n",
       "9   Bengaluru, KA, IN               83.7 NaN      23.9   \n",
       "11  Bengaluru, KA, IN               78.2 NaN      20.6   \n",
       "2   Bengaluru, KA, IN               74.1 NaN      12.8   \n",
       "15  Bengaluru, KA, IN               81.5 NaN      24.2   \n",
       "13  Bengaluru, KA, IN               77.9 NaN      24.6   \n",
       "\n",
       "                Conditions  Wind Chill  Longitude  \n",
       "9           Rain, Overcast         NaN    77.5872  \n",
       "11                Overcast         NaN    77.5872  \n",
       "2   Rain, Partially cloudy         NaN    77.5872  \n",
       "15          Rain, Overcast         NaN    77.5872  \n",
       "13        Partially cloudy         NaN    77.5872  \n",
       "\n",
       "[5 rows x 23 columns]"
      ]
     },
     "execution_count": 14,
     "metadata": {},
     "output_type": "execute_result"
    }
   ],
   "source": [
    "train_x.head()"
   ]
  },
  {
   "cell_type": "code",
   "execution_count": null,
   "metadata": {},
   "outputs": [],
   "source": [
    "model=LinearRegression ()\n",
    "model.fit(train_x,train_y)"
   ]
  },
  {
   "cell_type": "code",
   "execution_count": null,
   "metadata": {},
   "outputs": [],
   "source": [
    "np.mean((prediction.test_y)**2)\n",
    "pd.DataFrame({'actual':test_y, \n",
    "'prediction': prediction,\n",
    "'diff':(test_y.prediction)})"
   ]
  }
 ],
 "metadata": {
  "kernelspec": {
   "display_name": "Python 3",
   "language": "python",
   "name": "python3"
  },
  "language_info": {
   "codemirror_mode": {
    "name": "ipython",
    "version": 3
   },
   "file_extension": ".py",
   "mimetype": "text/x-python",
   "name": "python",
   "nbconvert_exporter": "python",
   "pygments_lexer": "ipython3",
   "version": "3.7.1"
  }
 },
 "nbformat": 4,
 "nbformat_minor": 2
}
